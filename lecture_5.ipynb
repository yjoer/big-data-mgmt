{
 "cells": [
  {
   "cell_type": "code",
   "execution_count": 1,
   "id": "600ed0ca-9d47-4e00-a07e-44ff8224ba28",
   "metadata": {},
   "outputs": [
    {
     "name": "stdout",
     "output_type": "stream",
     "text": [
      "WARNING:tensorflow:From D:\\Workspaces\\big-data-mgmt\\.venv\\Lib\\site-packages\\keras\\src\\losses.py:2976: The name tf.losses.sparse_softmax_cross_entropy is deprecated. Please use tf.compat.v1.losses.sparse_softmax_cross_entropy instead.\n",
      "\n"
     ]
    }
   ],
   "source": [
    "import os\n",
    "import math\n",
    "\n",
    "import chromadb\n",
    "import cv2\n",
    "import numpy as np\n",
    "import pandas as pd\n",
    "from dotenv import load_dotenv\n",
    "from mysql.connector import connect\n",
    "from sklearn.metrics.pairwise import cosine_similarity\n",
    "from tensorflow.keras.applications.resnet50 import preprocess_input, ResNet50\n",
    "from tensorflow.keras.layers import GlobalAveragePooling2D\n",
    "from tensorflow.keras.models import Model\n",
    "from tqdm.notebook import tqdm"
   ]
  },
  {
   "cell_type": "code",
   "execution_count": 2,
   "id": "1ca6605f-2663-4598-99fb-374616956e36",
   "metadata": {},
   "outputs": [
    {
     "data": {
      "text/plain": [
       "True"
      ]
     },
     "execution_count": 2,
     "metadata": {},
     "output_type": "execute_result"
    }
   ],
   "source": [
    "load_dotenv()"
   ]
  },
  {
   "cell_type": "code",
   "execution_count": 3,
   "id": "43701955-b30f-42ba-999e-dc71a97a0b32",
   "metadata": {},
   "outputs": [],
   "source": [
    "mysql = connect(host=\"localhost\", user=\"root\", password=\"root\", database=\"lecture_5_demo\")"
   ]
  },
  {
   "cell_type": "code",
   "execution_count": 4,
   "id": "05577ff9-6892-4e00-8502-b67c0106e38e",
   "metadata": {},
   "outputs": [],
   "source": [
    "def create_database():\n",
    "  with mysql.cursor() as cursor:\n",
    "    cursor.execute(\"CREATE DATABASE lecture_5_demo\")"
   ]
  },
  {
   "cell_type": "code",
   "execution_count": 5,
   "id": "5406ae44-9b4b-4375-be1b-88103c3c8138",
   "metadata": {},
   "outputs": [],
   "source": [
    "# create_database()"
   ]
  },
  {
   "cell_type": "code",
   "execution_count": 6,
   "id": "a44f3f28-fc8b-4ad0-a17c-c2bfd69808ec",
   "metadata": {},
   "outputs": [],
   "source": [
    "def create_table():\n",
    "  query = \"\"\"\n",
    "    CREATE TABLE crops (\n",
    "      id INT PRIMARY KEY AUTO_INCREMENT,\n",
    "      country_or_area LONGTEXT,\n",
    "      year LONGTEXT,\n",
    "      element LONGTEXT,\n",
    "      element_code LONGTEXT,\n",
    "      category LONGTEXT,\n",
    "      unit LONGTEXT,\n",
    "      value DOUBLE,\n",
    "      value_footnotes LONGTEXT\n",
    "    )\n",
    "  \"\"\"\n",
    "\n",
    "  with mysql.cursor() as cursor:\n",
    "    cursor.execute(query)"
   ]
  },
  {
   "cell_type": "code",
   "execution_count": 7,
   "id": "83a7177d-a062-44a8-b9bd-e5ff1c50de9d",
   "metadata": {},
   "outputs": [],
   "source": [
    "# create_table()"
   ]
  },
  {
   "cell_type": "code",
   "execution_count": 8,
   "id": "67585cda-8ce2-428a-960c-29a4407f15ba",
   "metadata": {},
   "outputs": [],
   "source": [
    "storage_options = {\n",
    "    \"key\": os.environ.get(\"S3_KEY\"),\n",
    "    \"secret\": os.environ.get(\"S3_SECRET\"),\n",
    "    \"client_kwargs\": {\"endpoint_url\": \"http://blizzard.inside.yjoer.com:9101\"},\n",
    "}\n",
    "\n",
    "df_crops = pd.read_csv(\n",
    "    \"s3://datasets/global-food-agriculture-statistics/fao_data_crops_data.csv\",\n",
    "    storage_options=storage_options,\n",
    ")\n",
    "\n",
    "df_crops.replace(np.nan, None, inplace=True)"
   ]
  },
  {
   "cell_type": "code",
   "execution_count": 9,
   "id": "3185930a-630f-4cc4-ade1-d899f0a1575b",
   "metadata": {},
   "outputs": [],
   "source": [
    "def insert_rows(rows):\n",
    "  query = \"\"\"\n",
    "    INSERT INTO crops (\n",
    "      country_or_area, year, element, element_code,\n",
    "      category, unit, value, value_footnotes\n",
    "    )\n",
    "    VALUES (%s, %s, %s, %s, %s, %s, %s, %s)\n",
    "  \"\"\"\n",
    "\n",
    "  records = []\n",
    "\n",
    "  for idx, row in rows:\n",
    "    records.append((\n",
    "      row.country_or_area, row.year, row.element, row.element_code,\n",
    "      row.category, row.unit, row.value, row.value_footnotes\n",
    "    ))\n",
    "\n",
    "  with mysql.cursor() as cursor:\n",
    "    cursor.executemany(query, records)\n",
    "    mysql.commit()"
   ]
  },
  {
   "cell_type": "code",
   "execution_count": 10,
   "id": "9bc309ee-6447-461c-ba99-2b0eeb114dc4",
   "metadata": {},
   "outputs": [],
   "source": [
    "def insert_data():\n",
    "  batch_size = 1000\n",
    "  batches = np.array_split(df_crops, len(df_crops) // batch_size + 1)\n",
    "\n",
    "  for batch in tqdm(batches):\n",
    "    insert_rows(batch.iterrows())"
   ]
  },
  {
   "cell_type": "code",
   "execution_count": 11,
   "id": "48fc7cbe-c590-49dd-b98c-dbfcc06609e5",
   "metadata": {},
   "outputs": [],
   "source": [
    "# insert_data()"
   ]
  },
  {
   "cell_type": "code",
   "execution_count": 12,
   "id": "0b7b1e2a-a25c-44de-bb7c-a9fe9c4554ba",
   "metadata": {},
   "outputs": [],
   "source": [
    "def get_area_harvested_in_malaysia():\n",
    "  query = \"\"\"\n",
    "    SELECT year, SUM(value)\n",
    "    FROM crops\n",
    "    WHERE country_or_area = 'Malaysia' AND element = 'Area Harvested'\n",
    "    GROUP BY year\n",
    "    ORDER BY year\n",
    "  \"\"\"\n",
    "\n",
    "  with mysql.cursor() as cursor:\n",
    "    cursor.execute(query)\n",
    "\n",
    "    for x in cursor:\n",
    "      print(x)"
   ]
  },
  {
   "cell_type": "code",
   "execution_count": 13,
   "id": "ed6e3e16-61fe-445b-9b33-5c8a8f37cf46",
   "metadata": {},
   "outputs": [
    {
     "name": "stdout",
     "output_type": "stream",
     "text": [
      "('1961.0', 3971026.0)\n",
      "('1962.0', 4073968.0)\n",
      "('1963.0', 4321595.0)\n",
      "('1964.0', 4381823.0)\n",
      "('1965.0', 4594246.0)\n",
      "('1966.0', 4499497.0)\n",
      "('1967.0', 4599414.0)\n",
      "('1968.0', 4954188.0)\n",
      "('1969.0', 5184958.0)\n",
      "('1970.0', 5404319.0)\n",
      "('1971.0', 5636415.0)\n",
      "('1972.0', 5954584.0)\n",
      "('1973.0', 6337340.0)\n",
      "('1974.0', 6461321.0)\n",
      "('1975.0', 6621428.0)\n",
      "('1976.0', 6898096.0)\n",
      "('1977.0', 7200411.0)\n",
      "('1978.0', 7141118.0)\n",
      "('1979.0', 7579654.0)\n",
      "('1980.0', 7853297.0)\n",
      "('1981.0', 8114167.0)\n",
      "('1982.0', 8114858.0)\n",
      "('1983.0', 8409470.0)\n",
      "('1984.0', 8389765.0)\n",
      "('1985.0', 8911615.0)\n",
      "('1986.0', 9317489.0)\n",
      "('1987.0', 9538506.0)\n",
      "('1988.0', 10209272.0)\n",
      "('1989.0', 10599297.0)\n",
      "('1990.0', 10881397.0)\n",
      "('1991.0', 11238651.0)\n",
      "('1992.0', 11284711.0)\n",
      "('1993.0', 11639990.0)\n",
      "('1994.0', 11936744.0)\n",
      "('1995.0', 12006889.0)\n",
      "('1996.0', 12334110.0)\n",
      "('1997.0', 12575656.0)\n",
      "('1998.0', 12891011.0)\n",
      "('1999.0', 13434915.0)\n",
      "('2000.0', 14196342.0)\n",
      "('2001.0', 14700691.0)\n",
      "('2002.0', 14913356.0)\n",
      "('2003.0', 14626540.0)\n",
      "('2004.0', 15032362.0)\n",
      "('2005.0', 15507948.0)\n",
      "('2006.0', 15955750.0)\n",
      "('2007.0', 16089150.0)\n"
     ]
    }
   ],
   "source": [
    "get_area_harvested_in_malaysia()"
   ]
  },
  {
   "cell_type": "code",
   "execution_count": 14,
   "id": "24864f3c-127b-4429-b843-2c72af98579f",
   "metadata": {},
   "outputs": [],
   "source": [
    "images = [\n",
    "  \"L4/apple.jpg\",\n",
    "  \"L4/orange.jpg\",\n",
    "  \"L4/banana.jpg\",\n",
    "  \"L4/honeydew.png\",\n",
    "  \"L4/melon.png\",\n",
    "  \"L4/banana_single.jpg\"\n",
    "]\n",
    "\n",
    "names = [\"apple\", \"orange\", \"banana\", \"honeydew\", \"melon\", \"banana_query\"]"
   ]
  },
  {
   "cell_type": "code",
   "execution_count": 15,
   "id": "6598b3e0-863e-4656-b6fa-2c99cb784fda",
   "metadata": {},
   "outputs": [],
   "source": [
    "ims = []\n",
    "\n",
    "for image in images:\n",
    "  im = cv2.imread(image)\n",
    "  im = cv2.cvtColor(im, cv2.COLOR_BGR2RGB)\n",
    "\n",
    "  ims.append(im)"
   ]
  },
  {
   "cell_type": "code",
   "execution_count": 16,
   "id": "bb34e6e0-8995-4ce8-8d67-4df55dbe7f05",
   "metadata": {},
   "outputs": [],
   "source": [
    "processed_ims = []\n",
    "\n",
    "for im in ims:\n",
    "  scaled_im = cv2.resize(im, (224, 224))\n",
    "  processed_im = preprocess_input(scaled_im)\n",
    "\n",
    "  processed_ims.append(processed_im)\n",
    "\n",
    "processed_ims = np.array(processed_ims)"
   ]
  },
  {
   "cell_type": "code",
   "execution_count": 17,
   "id": "0c6eab9f-85a7-420c-81ae-50c6cbcebc7d",
   "metadata": {},
   "outputs": [
    {
     "name": "stdout",
     "output_type": "stream",
     "text": [
      "WARNING:tensorflow:From D:\\Workspaces\\big-data-mgmt\\.venv\\Lib\\site-packages\\keras\\src\\backend.py:1398: The name tf.executing_eagerly_outside_functions is deprecated. Please use tf.compat.v1.executing_eagerly_outside_functions instead.\n",
      "\n",
      "WARNING:tensorflow:From D:\\Workspaces\\big-data-mgmt\\.venv\\Lib\\site-packages\\keras\\src\\layers\\normalization\\batch_normalization.py:979: The name tf.nn.fused_batch_norm is deprecated. Please use tf.compat.v1.nn.fused_batch_norm instead.\n",
      "\n"
     ]
    }
   ],
   "source": [
    "base_model = ResNet50(include_top=False)\n",
    "pooling = GlobalAveragePooling2D()(base_model.output)\n",
    "\n",
    "model = Model(inputs=base_model.input, outputs=pooling)"
   ]
  },
  {
   "cell_type": "code",
   "execution_count": 18,
   "id": "9fd48a58-d0b3-4e9d-a456-291169420965",
   "metadata": {},
   "outputs": [
    {
     "name": "stdout",
     "output_type": "stream",
     "text": [
      "1/1 [==============================] - 3s 3s/step\n"
     ]
    },
    {
     "data": {
      "text/plain": [
       "(6, 2048)"
      ]
     },
     "execution_count": 18,
     "metadata": {},
     "output_type": "execute_result"
    }
   ],
   "source": [
    "embeddings = model.predict(processed_ims)\n",
    "embeddings.shape"
   ]
  },
  {
   "cell_type": "code",
   "execution_count": 19,
   "id": "30fefb6e-c510-45e1-be8a-915dd8c057c3",
   "metadata": {},
   "outputs": [
    {
     "data": {
      "text/plain": [
       "[('banana', 0.6324712),\n",
       " ('honeydew', 0.5105934),\n",
       " ('melon', 0.4509704),\n",
       " ('orange', 0.35673666),\n",
       " ('apple', 0.3533535)]"
      ]
     },
     "execution_count": 19,
     "metadata": {},
     "output_type": "execute_result"
    }
   ],
   "source": [
    "query = embeddings[5]\n",
    "embeddings_index = embeddings[0:5]\n",
    "\n",
    "similarity = cosine_similarity(np.expand_dims(query, axis=0), embeddings_index)\n",
    "\n",
    "sorted(list(zip(names, similarity[0])), key=lambda x: x[1], reverse=True)"
   ]
  },
  {
   "cell_type": "code",
   "execution_count": 20,
   "id": "079b7ecc-7815-4a1d-aef4-139e12430668",
   "metadata": {},
   "outputs": [],
   "source": [
    "client = chromadb.PersistentClient(path=\"./data/chroma\")\n",
    "\n",
    "collection = client.get_or_create_collection(\n",
    "  name=\"lecture_5_demo\",\n",
    "  metadata={\"hnsw:space\": \"cosine\"}\n",
    ")"
   ]
  },
  {
   "cell_type": "code",
   "execution_count": 21,
   "id": "775d0e7d-2ab8-4eb2-913a-e23f605b2c36",
   "metadata": {},
   "outputs": [],
   "source": [
    "def insert_embeddings():\n",
    "  for idx, embedding in enumerate(embeddings_index):\n",
    "    collection.add(embeddings=[embedding.tolist()], ids=[names[idx]])"
   ]
  },
  {
   "cell_type": "code",
   "execution_count": 22,
   "id": "37ab3bb2-c528-499f-9430-28fcdefbf75c",
   "metadata": {},
   "outputs": [],
   "source": [
    "# insert_embeddings()"
   ]
  },
  {
   "cell_type": "code",
   "execution_count": 23,
   "id": "d4b264d6-ce3b-4f93-9a10-e8f4c3bb493a",
   "metadata": {},
   "outputs": [
    {
     "data": {
      "text/plain": [
       "[('banana', 0.3675287573361994),\n",
       " ('honeydew', 0.4894066374567593),\n",
       " ('melon', 0.5490295951677537),\n",
       " ('orange', 0.6432633620945717),\n",
       " ('apple', 0.6466465706627192)]"
      ]
     },
     "execution_count": 23,
     "metadata": {},
     "output_type": "execute_result"
    }
   ],
   "source": [
    "results = collection.query(query_embeddings=[query.tolist()], n_results=5)\n",
    "\n",
    "list(zip(results['ids'][0], results['distances'][0]))"
   ]
  },
  {
   "cell_type": "code",
   "execution_count": null,
   "id": "c5658fb6-c94f-4b04-b117-36dd9799c306",
   "metadata": {},
   "outputs": [],
   "source": []
  }
 ],
 "metadata": {
  "kernelspec": {
   "display_name": "Python 3 (ipykernel)",
   "language": "python",
   "name": "python3"
  },
  "language_info": {
   "codemirror_mode": {
    "name": "ipython",
    "version": 3
   },
   "file_extension": ".py",
   "mimetype": "text/x-python",
   "name": "python",
   "nbconvert_exporter": "python",
   "pygments_lexer": "ipython3",
   "version": "3.11.6"
  }
 },
 "nbformat": 4,
 "nbformat_minor": 5
}
