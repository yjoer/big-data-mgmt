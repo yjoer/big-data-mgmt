{
 "cells": [
  {
   "cell_type": "code",
   "execution_count": 1,
   "id": "600ed0ca-9d47-4e00-a07e-44ff8224ba28",
   "metadata": {},
   "outputs": [],
   "source": [
    "import os\n",
    "import math\n",
    "\n",
    "import numpy as np\n",
    "import pandas as pd\n",
    "from dotenv import load_dotenv\n",
    "from mysql.connector import connect\n",
    "from tqdm.notebook import tqdm"
   ]
  },
  {
   "cell_type": "code",
   "execution_count": 2,
   "id": "1ca6605f-2663-4598-99fb-374616956e36",
   "metadata": {},
   "outputs": [
    {
     "data": {
      "text/plain": [
       "True"
      ]
     },
     "execution_count": 2,
     "metadata": {},
     "output_type": "execute_result"
    }
   ],
   "source": [
    "load_dotenv()"
   ]
  },
  {
   "cell_type": "code",
   "execution_count": 3,
   "id": "43701955-b30f-42ba-999e-dc71a97a0b32",
   "metadata": {},
   "outputs": [],
   "source": [
    "mysql = connect(host=\"localhost\", user=\"root\", password=\"root\", database=\"lecture_5_demo\")"
   ]
  },
  {
   "cell_type": "code",
   "execution_count": 4,
   "id": "05577ff9-6892-4e00-8502-b67c0106e38e",
   "metadata": {},
   "outputs": [],
   "source": [
    "def create_database():\n",
    "  with mysql.cursor() as cursor:\n",
    "    cursor.execute(\"CREATE DATABASE lecture_5_demo\")"
   ]
  },
  {
   "cell_type": "code",
   "execution_count": 5,
   "id": "5406ae44-9b4b-4375-be1b-88103c3c8138",
   "metadata": {},
   "outputs": [],
   "source": [
    "# create_database()"
   ]
  },
  {
   "cell_type": "code",
   "execution_count": 6,
   "id": "a44f3f28-fc8b-4ad0-a17c-c2bfd69808ec",
   "metadata": {},
   "outputs": [],
   "source": [
    "def create_table():\n",
    "  query = \"\"\"\n",
    "    CREATE TABLE crops (\n",
    "      id INT PRIMARY KEY AUTO_INCREMENT,\n",
    "      country_or_area LONGTEXT,\n",
    "      year LONGTEXT,\n",
    "      element LONGTEXT,\n",
    "      element_code LONGTEXT,\n",
    "      category LONGTEXT,\n",
    "      unit LONGTEXT,\n",
    "      value DOUBLE,\n",
    "      value_footnotes LONGTEXT\n",
    "    )\n",
    "  \"\"\"\n",
    "\n",
    "  with mysql.cursor() as cursor:\n",
    "    cursor.execute(query)"
   ]
  },
  {
   "cell_type": "code",
   "execution_count": 7,
   "id": "83a7177d-a062-44a8-b9bd-e5ff1c50de9d",
   "metadata": {},
   "outputs": [],
   "source": [
    "# create_table()"
   ]
  },
  {
   "cell_type": "code",
   "execution_count": 8,
   "id": "67585cda-8ce2-428a-960c-29a4407f15ba",
   "metadata": {},
   "outputs": [],
   "source": [
    "storage_options = {\n",
    "    \"key\": os.environ.get(\"S3_KEY\"),\n",
    "    \"secret\": os.environ.get(\"S3_SECRET\"),\n",
    "    \"client_kwargs\": {\"endpoint_url\": \"http://blizzard.inside.yjoer.com:9101\"},\n",
    "}\n",
    "\n",
    "df_crops = pd.read_csv(\n",
    "    \"s3://datasets/global-food-agriculture-statistics/fao_data_crops_data.csv\",\n",
    "    storage_options=storage_options,\n",
    ")\n",
    "\n",
    "df_crops.replace(np.nan, None, inplace=True)"
   ]
  },
  {
   "cell_type": "code",
   "execution_count": 9,
   "id": "3185930a-630f-4cc4-ade1-d899f0a1575b",
   "metadata": {},
   "outputs": [],
   "source": [
    "def insert_rows(rows):\n",
    "  query = \"\"\"\n",
    "    INSERT INTO crops (\n",
    "      country_or_area, year, element, element_code,\n",
    "      category, unit, value, value_footnotes\n",
    "    )\n",
    "    VALUES (%s, %s, %s, %s, %s, %s, %s, %s)\n",
    "  \"\"\"\n",
    "\n",
    "  records = []\n",
    "\n",
    "  for idx, row in rows:\n",
    "    records.append((\n",
    "      row.country_or_area, row.year, row.element, row.element_code,\n",
    "      row.category, row.unit, row.value, row.value_footnotes\n",
    "    ))\n",
    "\n",
    "  with mysql.cursor() as cursor:\n",
    "    cursor.executemany(query, records)\n",
    "    mysql.commit()"
   ]
  },
  {
   "cell_type": "code",
   "execution_count": 10,
   "id": "9bc309ee-6447-461c-ba99-2b0eeb114dc4",
   "metadata": {},
   "outputs": [],
   "source": [
    "def insert_data():\n",
    "  batch_size = 1000\n",
    "  batches = np.array_split(df_crops, len(df_crops) // batch_size + 1)\n",
    "\n",
    "  for batch in tqdm(batches):\n",
    "    insert_rows(batch.iterrows())"
   ]
  },
  {
   "cell_type": "code",
   "execution_count": 11,
   "id": "48fc7cbe-c590-49dd-b98c-dbfcc06609e5",
   "metadata": {},
   "outputs": [],
   "source": [
    "# insert_data()"
   ]
  },
  {
   "cell_type": "code",
   "execution_count": 12,
   "id": "0b7b1e2a-a25c-44de-bb7c-a9fe9c4554ba",
   "metadata": {},
   "outputs": [],
   "source": [
    "def get_area_harvested_in_malaysia():\n",
    "  query = \"\"\"\n",
    "    SELECT year, SUM(value)\n",
    "    FROM crops\n",
    "    WHERE country_or_area = 'Malaysia' AND element = 'Area Harvested'\n",
    "    GROUP BY year\n",
    "    ORDER BY year\n",
    "  \"\"\"\n",
    "\n",
    "  with mysql.cursor() as cursor:\n",
    "    cursor.execute(query)\n",
    "\n",
    "    for x in cursor:\n",
    "      print(x)"
   ]
  },
  {
   "cell_type": "code",
   "execution_count": 13,
   "id": "ed6e3e16-61fe-445b-9b33-5c8a8f37cf46",
   "metadata": {},
   "outputs": [
    {
     "name": "stdout",
     "output_type": "stream",
     "text": [
      "('1961.0', 3971026.0)\n",
      "('1962.0', 4073968.0)\n",
      "('1963.0', 4321595.0)\n",
      "('1964.0', 4381823.0)\n",
      "('1965.0', 4594246.0)\n",
      "('1966.0', 4499497.0)\n",
      "('1967.0', 4599414.0)\n",
      "('1968.0', 4954188.0)\n",
      "('1969.0', 5184958.0)\n",
      "('1970.0', 5404319.0)\n",
      "('1971.0', 5636415.0)\n",
      "('1972.0', 5954584.0)\n",
      "('1973.0', 6337340.0)\n",
      "('1974.0', 6461321.0)\n",
      "('1975.0', 6621428.0)\n",
      "('1976.0', 6898096.0)\n",
      "('1977.0', 7200411.0)\n",
      "('1978.0', 7141118.0)\n",
      "('1979.0', 7579654.0)\n",
      "('1980.0', 7853297.0)\n",
      "('1981.0', 8114167.0)\n",
      "('1982.0', 8114858.0)\n",
      "('1983.0', 8409470.0)\n",
      "('1984.0', 8389765.0)\n",
      "('1985.0', 8911615.0)\n",
      "('1986.0', 9317489.0)\n",
      "('1987.0', 9538506.0)\n",
      "('1988.0', 10209272.0)\n",
      "('1989.0', 10599297.0)\n",
      "('1990.0', 10881397.0)\n",
      "('1991.0', 11238651.0)\n",
      "('1992.0', 11284711.0)\n",
      "('1993.0', 11639990.0)\n",
      "('1994.0', 11936744.0)\n",
      "('1995.0', 12006889.0)\n",
      "('1996.0', 12334110.0)\n",
      "('1997.0', 12575656.0)\n",
      "('1998.0', 12891011.0)\n",
      "('1999.0', 13434915.0)\n",
      "('2000.0', 14196342.0)\n",
      "('2001.0', 14700691.0)\n",
      "('2002.0', 14913356.0)\n",
      "('2003.0', 14626540.0)\n",
      "('2004.0', 15032362.0)\n",
      "('2005.0', 15507948.0)\n",
      "('2006.0', 15955750.0)\n",
      "('2007.0', 16089150.0)\n"
     ]
    }
   ],
   "source": [
    "get_area_harvested_in_malaysia()"
   ]
  },
  {
   "cell_type": "code",
   "execution_count": null,
   "id": "6d97e687-0283-4f96-b248-6f1e417f6505",
   "metadata": {},
   "outputs": [],
   "source": []
  }
 ],
 "metadata": {
  "kernelspec": {
   "display_name": "Python 3 (ipykernel)",
   "language": "python",
   "name": "python3"
  },
  "language_info": {
   "codemirror_mode": {
    "name": "ipython",
    "version": 3
   },
   "file_extension": ".py",
   "mimetype": "text/x-python",
   "name": "python",
   "nbconvert_exporter": "python",
   "pygments_lexer": "ipython3",
   "version": "3.11.6"
  }
 },
 "nbformat": 4,
 "nbformat_minor": 5
}
