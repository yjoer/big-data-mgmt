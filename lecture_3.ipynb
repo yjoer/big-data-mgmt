{
 "cells": [
  {
   "cell_type": "code",
   "execution_count": null,
   "id": "f6b8f697-52b1-4972-9a77-093b6f0f8b4e",
   "metadata": {},
   "outputs": [],
   "source": [
    "import numpy as np"
   ]
  },
  {
   "cell_type": "code",
   "execution_count": null,
   "id": "1222c3cc-c7e2-4a21-8031-f5aa1adb1beb",
   "metadata": {},
   "outputs": [],
   "source": [
    "np.random.seed(54321)\n",
    "array = np.random.choice(np.arange(1, 101), (100), replace=False)"
   ]
  },
  {
   "cell_type": "code",
   "execution_count": null,
   "id": "71122673-ed60-446d-82ad-0a0eb43bb0de",
   "metadata": {},
   "outputs": [],
   "source": [
    "array"
   ]
  },
  {
   "cell_type": "code",
   "execution_count": null,
   "id": "580460ef-c5e4-4b3c-b34a-d15284b388c2",
   "metadata": {},
   "outputs": [],
   "source": [
    "sorted_array = np.sort(array)"
   ]
  },
  {
   "cell_type": "code",
   "execution_count": null,
   "id": "01490874-0b5b-4013-a4c5-2560d06d3d55",
   "metadata": {},
   "outputs": [],
   "source": [
    "def linear_search(arr, target):\n",
    "  mask = (arr == target)\n",
    "  return np.where(mask)"
   ]
  },
  {
   "cell_type": "code",
   "execution_count": null,
   "id": "f97426b4-0ce1-479b-acea-abf55e380484",
   "metadata": {},
   "outputs": [],
   "source": [
    "def linear_search_slow(arr, target):\n",
    "  for idx, val in np.ndenumerate(arr):\n",
    "    if val == target:\n",
    "      return idx[0]"
   ]
  },
  {
   "cell_type": "markdown",
   "id": "0711646c-3f3e-482c-a84f-9edc2cf184cb",
   "metadata": {},
   "source": [
    "**Search an element 100**"
   ]
  },
  {
   "cell_type": "code",
   "execution_count": null,
   "id": "a02b0d63-6901-42d1-a3db-b7fac33f56c1",
   "metadata": {},
   "outputs": [],
   "source": [
    "%%timeit\n",
    "linear_search(array, 100)"
   ]
  },
  {
   "cell_type": "code",
   "execution_count": null,
   "id": "9797a69c-73e5-4938-bb06-dac74f5cfb76",
   "metadata": {},
   "outputs": [],
   "source": [
    "%%timeit\n",
    "linear_search(sorted_array, 100)"
   ]
  },
  {
   "cell_type": "code",
   "execution_count": null,
   "id": "bf22b173-f3ea-4bb0-9b32-07ab72e3f718",
   "metadata": {},
   "outputs": [],
   "source": [
    "%%timeit\n",
    "linear_search_slow(array, 100)"
   ]
  },
  {
   "cell_type": "code",
   "execution_count": null,
   "id": "d349a1f5-1164-47e1-8ece-75ca1e7da6d6",
   "metadata": {},
   "outputs": [],
   "source": [
    "%%timeit\n",
    "linear_search_slow(sorted_array, 100)"
   ]
  },
  {
   "cell_type": "markdown",
   "id": "3fc60b37-aa1b-4de7-941f-36e8b6b8c326",
   "metadata": {},
   "source": [
    "**Search other elements**"
   ]
  },
  {
   "cell_type": "code",
   "execution_count": null,
   "id": "7fca8a7c-7342-422b-aba5-5772742b9fdc",
   "metadata": {},
   "outputs": [],
   "source": [
    "%%timeit\n",
    "linear_search(array, )"
   ]
  },
  {
   "cell_type": "code",
   "execution_count": null,
   "id": "b42969c8-9742-41bf-9f1e-4e75ec0e0603",
   "metadata": {},
   "outputs": [],
   "source": [
    "%%timeit\n",
    "linear_search(sorted_array, )"
   ]
  },
  {
   "cell_type": "code",
   "execution_count": null,
   "id": "a25b94e1-3b22-41e6-8391-97355e0ab3a6",
   "metadata": {},
   "outputs": [],
   "source": [
    "%%timeit\n",
    "linear_search_slow(array, 1)"
   ]
  },
  {
   "cell_type": "code",
   "execution_count": null,
   "id": "790e7037-4eea-4437-b4d5-769cf24ac919",
   "metadata": {},
   "outputs": [],
   "source": [
    "%%timeit\n",
    "linear_search_slow(sorted_array, 1)"
   ]
  },
  {
   "cell_type": "markdown",
   "id": "08e6cfa3-264f-4131-a24e-7738b7cb6044",
   "metadata": {},
   "source": [
    "**Pixel Frequency**"
   ]
  },
  {
   "cell_type": "code",
   "execution_count": null,
   "id": "209128fc-169b-4209-a02b-60603e7578f6",
   "metadata": {},
   "outputs": [],
   "source": [
    "import cv2"
   ]
  },
  {
   "cell_type": "code",
   "execution_count": null,
   "id": "4cb0123a-738a-4cbd-9811-fca72f79b032",
   "metadata": {},
   "outputs": [],
   "source": [
    "im = cv2.imread(\"L3/img.jpg\")\n",
    "im = cv2.cvtColor(im, cv2.COLOR_BGR2RGB)"
   ]
  },
  {
   "cell_type": "code",
   "execution_count": null,
   "id": "47dbaa84-8583-453d-934b-50a1a3c0bbd0",
   "metadata": {},
   "outputs": [],
   "source": [
    "im.shape"
   ]
  },
  {
   "cell_type": "code",
   "execution_count": null,
   "id": "9e6533d3-f5b3-4a35-bef9-860d8d9aa355",
   "metadata": {},
   "outputs": [],
   "source": [
    "h = im.shape[0]\n",
    "w = im.shape[1]\n",
    "\n",
    "freq = {}\n",
    "\n",
    "for y in range(h):\n",
    "  for x in range(w):\n",
    "    pixel = im[y, x]\n",
    "    pixel_tuple = (pixel[0], pixel[1], pixel[2])\n",
    "\n",
    "    freq[pixel_tuple] = freq.get(pixel_tuple, 0) + 1"
   ]
  },
  {
   "cell_type": "code",
   "execution_count": null,
   "id": "cb56b649-c49e-4b5f-a765-a15edce69331",
   "metadata": {},
   "outputs": [],
   "source": [
    "sorted_freq = dict(sorted(freq.items(), key=lambda item: item[1], reverse=True))\n",
    "\n",
    "next(iter(sorted_freq.items()))"
   ]
  },
  {
   "cell_type": "code",
   "execution_count": null,
   "id": "51799216-3d9e-4576-a7f7-a0fb5f7e5e39",
   "metadata": {},
   "outputs": [],
   "source": []
  }
 ],
 "metadata": {
  "kernelspec": {
   "display_name": "Python 3 (ipykernel)",
   "language": "python",
   "name": "python3"
  },
  "language_info": {
   "codemirror_mode": {
    "name": "ipython",
    "version": 3
   },
   "file_extension": ".py",
   "mimetype": "text/x-python",
   "name": "python",
   "nbconvert_exporter": "python",
   "pygments_lexer": "ipython3",
   "version": "3.11.6"
  }
 },
 "nbformat": 4,
 "nbformat_minor": 5
}
